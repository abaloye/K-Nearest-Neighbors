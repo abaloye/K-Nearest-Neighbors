{
 "cells": [
  {
   "cell_type": "markdown",
   "id": "c223c5f0-2a89-40e4-b35a-c33090441d67",
   "metadata": {},
   "source": [
    "### import the libraries "
   ]
  },
  {
   "cell_type": "code",
   "execution_count": 9,
   "id": "87237d57-91b0-47cb-88a4-2420bd4ea849",
   "metadata": {},
   "outputs": [],
   "source": [
    "import numpy as np\n",
    "import pandas as pd\n",
    "import matplotlib.pyplot as plt\n",
    "import scipy as sp"
   ]
  },
  {
   "cell_type": "markdown",
   "id": "30ae9e1b-f394-47de-9970-71dfbd9ed00b",
   "metadata": {},
   "source": [
    "### load the data using Pandas"
   ]
  },
  {
   "cell_type": "code",
   "execution_count": 10,
   "id": "4d666372-76b2-49f4-91f5-0eb5ae248eb9",
   "metadata": {},
   "outputs": [
    {
     "data": {
      "text/html": [
       "<div>\n",
       "<style scoped>\n",
       "    .dataframe tbody tr th:only-of-type {\n",
       "        vertical-align: middle;\n",
       "    }\n",
       "\n",
       "    .dataframe tbody tr th {\n",
       "        vertical-align: top;\n",
       "    }\n",
       "\n",
       "    .dataframe thead th {\n",
       "        text-align: right;\n",
       "    }\n",
       "</style>\n",
       "<table border=\"1\" class=\"dataframe\">\n",
       "  <thead>\n",
       "    <tr style=\"text-align: right;\">\n",
       "      <th></th>\n",
       "      <th>petal_length</th>\n",
       "      <th>petal_width</th>\n",
       "      <th>sepal_length</th>\n",
       "      <th>sepal_width</th>\n",
       "      <th>species</th>\n",
       "    </tr>\n",
       "  </thead>\n",
       "  <tbody>\n",
       "    <tr>\n",
       "      <th>0</th>\n",
       "      <td>5.1</td>\n",
       "      <td>3.5</td>\n",
       "      <td>1.4</td>\n",
       "      <td>0.2</td>\n",
       "      <td>Iris-setosa</td>\n",
       "    </tr>\n",
       "    <tr>\n",
       "      <th>1</th>\n",
       "      <td>4.9</td>\n",
       "      <td>3.0</td>\n",
       "      <td>1.4</td>\n",
       "      <td>0.2</td>\n",
       "      <td>Iris-setosa</td>\n",
       "    </tr>\n",
       "    <tr>\n",
       "      <th>2</th>\n",
       "      <td>4.7</td>\n",
       "      <td>3.2</td>\n",
       "      <td>1.3</td>\n",
       "      <td>0.2</td>\n",
       "      <td>Iris-setosa</td>\n",
       "    </tr>\n",
       "    <tr>\n",
       "      <th>3</th>\n",
       "      <td>4.6</td>\n",
       "      <td>3.1</td>\n",
       "      <td>1.5</td>\n",
       "      <td>0.2</td>\n",
       "      <td>Iris-setosa</td>\n",
       "    </tr>\n",
       "    <tr>\n",
       "      <th>4</th>\n",
       "      <td>5.0</td>\n",
       "      <td>3.6</td>\n",
       "      <td>1.4</td>\n",
       "      <td>0.2</td>\n",
       "      <td>Iris-setosa</td>\n",
       "    </tr>\n",
       "    <tr>\n",
       "      <th>...</th>\n",
       "      <td>...</td>\n",
       "      <td>...</td>\n",
       "      <td>...</td>\n",
       "      <td>...</td>\n",
       "      <td>...</td>\n",
       "    </tr>\n",
       "    <tr>\n",
       "      <th>145</th>\n",
       "      <td>6.7</td>\n",
       "      <td>3.0</td>\n",
       "      <td>5.2</td>\n",
       "      <td>2.3</td>\n",
       "      <td>Iris-virginica</td>\n",
       "    </tr>\n",
       "    <tr>\n",
       "      <th>146</th>\n",
       "      <td>6.3</td>\n",
       "      <td>2.5</td>\n",
       "      <td>5.0</td>\n",
       "      <td>1.9</td>\n",
       "      <td>Iris-virginica</td>\n",
       "    </tr>\n",
       "    <tr>\n",
       "      <th>147</th>\n",
       "      <td>6.5</td>\n",
       "      <td>3.0</td>\n",
       "      <td>5.2</td>\n",
       "      <td>2.0</td>\n",
       "      <td>Iris-virginica</td>\n",
       "    </tr>\n",
       "    <tr>\n",
       "      <th>148</th>\n",
       "      <td>6.2</td>\n",
       "      <td>3.4</td>\n",
       "      <td>5.4</td>\n",
       "      <td>2.3</td>\n",
       "      <td>Iris-virginica</td>\n",
       "    </tr>\n",
       "    <tr>\n",
       "      <th>149</th>\n",
       "      <td>5.9</td>\n",
       "      <td>3.0</td>\n",
       "      <td>5.1</td>\n",
       "      <td>1.8</td>\n",
       "      <td>Iris-virginica</td>\n",
       "    </tr>\n",
       "  </tbody>\n",
       "</table>\n",
       "<p>150 rows × 5 columns</p>\n",
       "</div>"
      ],
      "text/plain": [
       "     petal_length  petal_width  sepal_length  sepal_width         species\n",
       "0             5.1          3.5           1.4          0.2     Iris-setosa\n",
       "1             4.9          3.0           1.4          0.2     Iris-setosa\n",
       "2             4.7          3.2           1.3          0.2     Iris-setosa\n",
       "3             4.6          3.1           1.5          0.2     Iris-setosa\n",
       "4             5.0          3.6           1.4          0.2     Iris-setosa\n",
       "..            ...          ...           ...          ...             ...\n",
       "145           6.7          3.0           5.2          2.3  Iris-virginica\n",
       "146           6.3          2.5           5.0          1.9  Iris-virginica\n",
       "147           6.5          3.0           5.2          2.0  Iris-virginica\n",
       "148           6.2          3.4           5.4          2.3  Iris-virginica\n",
       "149           5.9          3.0           5.1          1.8  Iris-virginica\n",
       "\n",
       "[150 rows x 5 columns]"
      ]
     },
     "execution_count": 10,
     "metadata": {},
     "output_type": "execute_result"
    }
   ],
   "source": [
    "dataset = pd.read_csv(r\"C:\\Users\\A.D AKINWUMI\\Desktop\\iris_csv.csv\")\n",
    "dataset"
   ]
  },
  {
   "cell_type": "code",
   "execution_count": 11,
   "id": "f8685986-8bd7-4e2f-8266-52b7af36d50d",
   "metadata": {},
   "outputs": [
    {
     "data": {
      "text/html": [
       "<div>\n",
       "<style scoped>\n",
       "    .dataframe tbody tr th:only-of-type {\n",
       "        vertical-align: middle;\n",
       "    }\n",
       "\n",
       "    .dataframe tbody tr th {\n",
       "        vertical-align: top;\n",
       "    }\n",
       "\n",
       "    .dataframe thead th {\n",
       "        text-align: right;\n",
       "    }\n",
       "</style>\n",
       "<table border=\"1\" class=\"dataframe\">\n",
       "  <thead>\n",
       "    <tr style=\"text-align: right;\">\n",
       "      <th></th>\n",
       "      <th>petal_length</th>\n",
       "      <th>petal_width</th>\n",
       "      <th>sepal_length</th>\n",
       "      <th>sepal_width</th>\n",
       "      <th>species</th>\n",
       "    </tr>\n",
       "  </thead>\n",
       "  <tbody>\n",
       "    <tr>\n",
       "      <th>0</th>\n",
       "      <td>5.1</td>\n",
       "      <td>3.5</td>\n",
       "      <td>1.4</td>\n",
       "      <td>0.2</td>\n",
       "      <td>Iris-setosa</td>\n",
       "    </tr>\n",
       "    <tr>\n",
       "      <th>1</th>\n",
       "      <td>4.9</td>\n",
       "      <td>3.0</td>\n",
       "      <td>1.4</td>\n",
       "      <td>0.2</td>\n",
       "      <td>Iris-setosa</td>\n",
       "    </tr>\n",
       "    <tr>\n",
       "      <th>2</th>\n",
       "      <td>4.7</td>\n",
       "      <td>3.2</td>\n",
       "      <td>1.3</td>\n",
       "      <td>0.2</td>\n",
       "      <td>Iris-setosa</td>\n",
       "    </tr>\n",
       "    <tr>\n",
       "      <th>3</th>\n",
       "      <td>4.6</td>\n",
       "      <td>3.1</td>\n",
       "      <td>1.5</td>\n",
       "      <td>0.2</td>\n",
       "      <td>Iris-setosa</td>\n",
       "    </tr>\n",
       "    <tr>\n",
       "      <th>4</th>\n",
       "      <td>5.0</td>\n",
       "      <td>3.6</td>\n",
       "      <td>1.4</td>\n",
       "      <td>0.2</td>\n",
       "      <td>Iris-setosa</td>\n",
       "    </tr>\n",
       "  </tbody>\n",
       "</table>\n",
       "</div>"
      ],
      "text/plain": [
       "   petal_length  petal_width  sepal_length  sepal_width      species\n",
       "0           5.1          3.5           1.4          0.2  Iris-setosa\n",
       "1           4.9          3.0           1.4          0.2  Iris-setosa\n",
       "2           4.7          3.2           1.3          0.2  Iris-setosa\n",
       "3           4.6          3.1           1.5          0.2  Iris-setosa\n",
       "4           5.0          3.6           1.4          0.2  Iris-setosa"
      ]
     },
     "execution_count": 11,
     "metadata": {},
     "output_type": "execute_result"
    }
   ],
   "source": [
    "# Let's get a feel of our dataset and the features that are available\n",
    "\n",
    "dataset.head(5)"
   ]
  },
  {
   "cell_type": "code",
   "execution_count": 8,
   "id": "685603e3-1640-41b8-821c-8b704e24e902",
   "metadata": {},
   "outputs": [
    {
     "data": {
      "text/plain": [
       "(150, 5)"
      ]
     },
     "execution_count": 8,
     "metadata": {},
     "output_type": "execute_result"
    }
   ],
   "source": [
    "# To know the number of observations in the dataset\n",
    "\n",
    "dataset.shape"
   ]
  },
  {
   "cell_type": "code",
   "execution_count": 13,
   "id": "bea8b9a9-872d-470b-9ac1-b66162169bc4",
   "metadata": {},
   "outputs": [],
   "source": [
    "# there are 4 predictors namely sepal length, sepal width, petal length and petal width.\n",
    "# species is the target variable that we are interested in predicting\n",
    "# we separate the columns into features (X) and targets (y)\n",
    "\n",
    "X = dataset.iloc[:, 1:4].values # select features\n",
    "y = dataset.iloc[:, 4].values # Species contains targets for our model"
   ]
  },
  {
   "cell_type": "code",
   "execution_count": 14,
   "id": "31c11673-35b4-46ff-9d1a-80d06b1823b1",
   "metadata": {},
   "outputs": [],
   "source": [
    "# Our targets are currently stored as text. We need to transform them into categorical variables. \n",
    "# to do this we leverage Scikit-Learn label encoder\n",
    "\n",
    "from sklearn.preprocessing import LabelEncoder\n",
    "le = LabelEncoder()\n",
    "y = le.fit_transform(y) # this transform species names into categorical values"
   ]
  },
  {
   "cell_type": "markdown",
   "id": "d909c13f-4d1a-4b95-bd43-4979f965c954",
   "metadata": {},
   "source": [
    "### split the dataset into a training set and a test set"
   ]
  },
  {
   "cell_type": "code",
   "execution_count": 15,
   "id": "7505e39a-11d0-4623-9854-d8ab356ffc93",
   "metadata": {},
   "outputs": [],
   "source": [
    "from sklearn.model_selection import train_test_split\n",
    "X_train, X_test, y_train, y_test = train_test_split(X, y, test_size = 0.3)"
   ]
  },
  {
   "cell_type": "markdown",
   "id": "dc711d41-4a19-4bda-a4a6-7f0226e8d832",
   "metadata": {},
   "source": [
    "### calculate the Euclidean distance"
   ]
  },
  {
   "cell_type": "code",
   "execution_count": 128,
   "id": "4b40dffc-8ec3-4ce6-9ccb-e0021e1a16d4",
   "metadata": {},
   "outputs": [],
   "source": [
    "# The Euclidean distance (L2 distance) is computed from the test sample to every sample in the\n",
    "# training set to determine how close they are. \n",
    "\n",
    "def euclidean_distance(training_set, test_instance):\n",
    "    \n",
    " # number of samples inside training set\n",
    " n_samples = training_set.shape[0]\n",
    "    \n",
    " # create array for distances\n",
    " distances = np.empty(n_samples, dtype=np.float64)\n",
    "    \n",
    " # euclidean distance calculation\n",
    " for i in range(n_samples):\n",
    "    distances[i] = np.sqrt(np.sum(np.square(test_instance - training_set[i])))\n",
    "    print(distances)\n"
   ]
  },
  {
   "cell_type": "markdown",
   "id": "5336c0c8-d057-40dd-8829-ff8d44157ea6",
   "metadata": {},
   "source": [
    "### Locating Neighbors\n"
   ]
  },
  {
   "cell_type": "code",
   "execution_count": 119,
   "id": "c954ebfe-8d1c-430b-8092-3b9d6e024481",
   "metadata": {},
   "outputs": [
    {
     "ename": "IndentationError",
     "evalue": "unindent does not match any outer indentation level (<tokenize>, line 38)",
     "output_type": "error",
     "traceback": [
      "\u001b[1;36m  File \u001b[1;32m<tokenize>:38\u001b[1;36m\u001b[0m\n\u001b[1;33m    def predict(self, X_test):\u001b[0m\n\u001b[1;37m    ^\u001b[0m\n\u001b[1;31mIndentationError\u001b[0m\u001b[1;31m:\u001b[0m unindent does not match any outer indentation level\n"
     ]
    }
   ],
   "source": [
    "class MyKNeighborsClassifier():\n",
    "  \"\"\"\n",
    "  Vanilla implementation of KNN algorithm.\n",
    "  \"\"\"\n",
    "  def__init__(self, n_neighbors=5):\n",
    "   self.n_neighbors=n_neighbors\n",
    "  def fit(self, X, y):\n",
    "  \"\"\"\n",
    "  Fit the model using X as array of features and y as array of labels.\n",
    "  \"\"\"\n",
    "  n_samples = X.shape[0]\n",
    "    \n",
    " # number of neighbors can't be larger then number of samples\n",
    "  if self.n_neighbors > n_samples:\n",
    "         raise ValueError(\"Number of neighbors can't be larger then number of samples in training set.\")\n",
    "    \n",
    " # X and y need to have the same number of samples\n",
    "  if X.shape[0] != y.shape[0]:\n",
    "    raise ValueError(\"Number of samples in X and y need to be equal.\")\n",
    "\n",
    " # finding and saving all possible class labels\n",
    "    self.classes_ = np.unique(y)\n",
    "    self.X = X\n",
    "    self.y = y\n",
    "def pred_from_neighbors(self, training_set, labels, test_instance, k):\n",
    "        distances = euclidean_distance(training_set, test_instance)\n",
    "        \n",
    "     # combining arrays as columns\n",
    "         distances = sp.c_[distances, labels]\n",
    "        \n",
    "     # sorting array by value of first column\n",
    "         sorted_distances = distances[distances[:,0].argsort()]\n",
    "    \n",
    "     # selecting labels associeted with k smallest distances\n",
    "        targets = sorted_distances[0:k,1]\n",
    "        unique, counts = np.unique(targets, return_counts=True)\n",
    "        return(unique[np.argmax(counts)])\n",
    "    def predict(self, X_test):\n",
    "        # number of predictions to make and number of features inside single sample\n",
    "        n_predictions, n_features = X_test.shape\n",
    "    \n",
    "     # allocationg space for array of predictions\n",
    "         predictions = np.empty(n_predictions, dtype=int)\n",
    "    \n",
    "     # loop over all observations\n",
    "    for i in range(n_predictions):\n",
    "        \n",
    "     # calculation of single prediction\n",
    "         predictions[i] = self.pred_from_neighbors(self.X, self.y, X_test[i, :], self.n_neighbors);\n",
    "         return(predictions)"
   ]
  },
  {
   "cell_type": "code",
   "execution_count": 78,
   "id": "1284bd77-8dc6-42a3-b4cd-db095927b899",
   "metadata": {},
   "outputs": [
    {
     "ename": "NameError",
     "evalue": "name 'MyKNeighborsClassifier' is not defined",
     "output_type": "error",
     "traceback": [
      "\u001b[1;31m---------------------------------------------------------------------------\u001b[0m",
      "\u001b[1;31mNameError\u001b[0m                                 Traceback (most recent call last)",
      "Input \u001b[1;32mIn [78]\u001b[0m, in \u001b[0;36m<cell line: 2>\u001b[1;34m()\u001b[0m\n\u001b[0;32m      1\u001b[0m \u001b[38;5;66;03m# instantiate learning model (k = 3)\u001b[39;00m\n\u001b[1;32m----> 2\u001b[0m my_classifier \u001b[38;5;241m=\u001b[39m \u001b[43mMyKNeighborsClassifier\u001b[49m(n_neighbors\u001b[38;5;241m=\u001b[39m\u001b[38;5;241m3\u001b[39m)\n",
      "\u001b[1;31mNameError\u001b[0m: name 'MyKNeighborsClassifier' is not defined"
     ]
    }
   ],
   "source": [
    "# instantiate learning model (k = 3)\n",
    "my_classifier = MyKNeighborsClassifier(n_neighbors=3)"
   ]
  },
  {
   "cell_type": "code",
   "execution_count": 50,
   "id": "ae0e0f71-0b11-4399-bc54-e40df3c282ec",
   "metadata": {},
   "outputs": [
    {
     "ename": "NameError",
     "evalue": "name 'my_classifier' is not defined",
     "output_type": "error",
     "traceback": [
      "\u001b[1;31m---------------------------------------------------------------------------\u001b[0m",
      "\u001b[1;31mNameError\u001b[0m                                 Traceback (most recent call last)",
      "Input \u001b[1;32mIn [50]\u001b[0m, in \u001b[0;36m<cell line: 4>\u001b[1;34m()\u001b[0m\n\u001b[0;32m      1\u001b[0m \u001b[38;5;66;03m# Next we can train our model on the data. note; in K-NN no training actually takes place.\u001b[39;00m\n\u001b[0;32m      2\u001b[0m \u001b[38;5;66;03m# fitting the model\u001b[39;00m\n\u001b[1;32m----> 4\u001b[0m \u001b[43mmy_classifier\u001b[49m\u001b[38;5;241m.\u001b[39mfit(X_train, y_train)\n",
      "\u001b[1;31mNameError\u001b[0m: name 'my_classifier' is not defined"
     ]
    }
   ],
   "source": [
    "# Next we can train our model on the data. note; in K-NN no training actually takes place.\n",
    "# fitting the model\n",
    "\n",
    "my_classifier.fit(X_train, y_train)\n"
   ]
  },
  {
   "cell_type": "code",
   "execution_count": 51,
   "id": "e83f8d40-6a1b-408f-9374-68e0c7269832",
   "metadata": {},
   "outputs": [
    {
     "ename": "NameError",
     "evalue": "name 'my_classifier' is not defined",
     "output_type": "error",
     "traceback": [
      "\u001b[1;31m---------------------------------------------------------------------------\u001b[0m",
      "\u001b[1;31mNameError\u001b[0m                                 Traceback (most recent call last)",
      "Input \u001b[1;32mIn [51]\u001b[0m, in \u001b[0;36m<cell line: 5>\u001b[1;34m()\u001b[0m\n\u001b[0;32m      1\u001b[0m \u001b[38;5;66;03m# To evaluate the accuracy of our model, we test its performance on examples\u001b[39;00m\n\u001b[0;32m      2\u001b[0m \u001b[38;5;66;03m# which it has not seen such as those contained in the test set.\u001b[39;00m\n\u001b[0;32m      3\u001b[0m \u001b[38;5;66;03m# predicting the test set results\u001b[39;00m\n\u001b[1;32m----> 5\u001b[0m my_y_pred \u001b[38;5;241m=\u001b[39m \u001b[43mmy_classifier\u001b[49m\u001b[38;5;241m.\u001b[39mpredict(X_test)\n",
      "\u001b[1;31mNameError\u001b[0m: name 'my_classifier' is not defined"
     ]
    }
   ],
   "source": [
    "# To evaluate the accuracy of our model, we test its performance on examples\n",
    "# which it has not seen such as those contained in the test set.\n",
    "# predicting the test set results\n",
    "\n",
    "my_y_pred = my_classifier.predict(X_test)"
   ]
  },
  {
   "cell_type": "code",
   "execution_count": 52,
   "id": "e34ab0ac-ddcb-4dfe-ae25-83ac1de51c71",
   "metadata": {},
   "outputs": [
    {
     "ename": "NameError",
     "evalue": "name 'my_y_pred' is not defined",
     "output_type": "error",
     "traceback": [
      "\u001b[1;31m---------------------------------------------------------------------------\u001b[0m",
      "\u001b[1;31mNameError\u001b[0m                                 Traceback (most recent call last)",
      "Input \u001b[1;32mIn [52]\u001b[0m, in \u001b[0;36m<cell line: 5>\u001b[1;34m()\u001b[0m\n\u001b[0;32m      1\u001b[0m \u001b[38;5;66;03m# We then check the predicted classes against the ground truth labels and use\u001b[39;00m\n\u001b[0;32m      2\u001b[0m \u001b[38;5;66;03m# Scikit-Learn accuracy module to calculate the accuracy of our classifier\u001b[39;00m\n\u001b[0;32m      4\u001b[0m \u001b[38;5;28;01mfrom\u001b[39;00m \u001b[38;5;21;01msklearn\u001b[39;00m\u001b[38;5;21;01m.\u001b[39;00m\u001b[38;5;21;01mmetrics\u001b[39;00m \u001b[38;5;28;01mimport\u001b[39;00m confusion_matrix, accuracy_score\n\u001b[1;32m----> 5\u001b[0m accuracy \u001b[38;5;241m=\u001b[39m accuracy_score(y_test, \u001b[43mmy_y_pred\u001b[49m)\u001b[38;5;241m*\u001b[39m\u001b[38;5;241m100\u001b[39m\n\u001b[0;32m      6\u001b[0m \u001b[38;5;28mprint\u001b[39m(\u001b[38;5;124m'\u001b[39m\u001b[38;5;124mAccuracy: \u001b[39m\u001b[38;5;124m'\u001b[39m \u001b[38;5;241m+\u001b[39m \u001b[38;5;28mstr\u001b[39m(\u001b[38;5;28mround\u001b[39m(accuracy, \u001b[38;5;241m2\u001b[39m)) \u001b[38;5;241m+\u001b[39m \u001b[38;5;124m'\u001b[39m\u001b[38;5;124m \u001b[39m\u001b[38;5;124m%\u001b[39m\u001b[38;5;124m.\u001b[39m\u001b[38;5;124m'\u001b[39m)\n",
      "\u001b[1;31mNameError\u001b[0m: name 'my_y_pred' is not defined"
     ]
    }
   ],
   "source": [
    "# We then check the predicted classes against the ground truth labels and use\n",
    "# Scikit-Learn accuracy module to calculate the accuracy of our classifier\n",
    "\n",
    "from sklearn.metrics import confusion_matrix, accuracy_score\n",
    "accuracy = accuracy_score(y_test, my_y_pred)*100\n",
    "print('Accuracy: ' + str(round(accuracy, 2)) + ' %.')\n"
   ]
  },
  {
   "cell_type": "code",
   "execution_count": null,
   "id": "1df09184-360e-4b6c-ab2c-13b7b04e96f2",
   "metadata": {},
   "outputs": [],
   "source": []
  },
  {
   "cell_type": "code",
   "execution_count": null,
   "id": "38d4b815-44e5-4116-9b6d-e91484516fbf",
   "metadata": {},
   "outputs": [],
   "source": []
  },
  {
   "cell_type": "code",
   "execution_count": null,
   "id": "8b19e51a-f7bb-443f-ad39-670ab36853e8",
   "metadata": {},
   "outputs": [],
   "source": []
  },
  {
   "cell_type": "code",
   "execution_count": null,
   "id": "d1046e0e-090a-44da-aacc-a9a369cb0d79",
   "metadata": {},
   "outputs": [],
   "source": []
  }
 ],
 "metadata": {
  "kernelspec": {
   "display_name": "Python 3 (ipykernel)",
   "language": "python",
   "name": "python3"
  },
  "language_info": {
   "codemirror_mode": {
    "name": "ipython",
    "version": 3
   },
   "file_extension": ".py",
   "mimetype": "text/x-python",
   "name": "python",
   "nbconvert_exporter": "python",
   "pygments_lexer": "ipython3",
   "version": "3.10.5"
  }
 },
 "nbformat": 4,
 "nbformat_minor": 5
}
